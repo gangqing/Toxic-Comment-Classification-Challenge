{
 "cells": [
  {
   "cell_type": "markdown",
   "metadata": {},
   "source": [
    "### 1､数据分析"
   ]
  },
  {
   "cell_type": "code",
   "execution_count": 1,
   "metadata": {},
   "outputs": [
    {
     "name": "stdout",
     "output_type": "stream",
     "text": [
      "               toxic   severe_toxic        obscene         threat  \\\n",
      "count  159571.000000  159571.000000  159571.000000  159571.000000   \n",
      "mean        0.095844       0.009996       0.052948       0.002996   \n",
      "std         0.294379       0.099477       0.223931       0.054650   \n",
      "min         0.000000       0.000000       0.000000       0.000000   \n",
      "25%         0.000000       0.000000       0.000000       0.000000   \n",
      "50%         0.000000       0.000000       0.000000       0.000000   \n",
      "75%         0.000000       0.000000       0.000000       0.000000   \n",
      "max         1.000000       1.000000       1.000000       1.000000   \n",
      "\n",
      "              insult  identity_hate  \n",
      "count  159571.000000  159571.000000  \n",
      "mean        0.049364       0.008805  \n",
      "std         0.216627       0.093420  \n",
      "min         0.000000       0.000000  \n",
      "25%         0.000000       0.000000  \n",
      "50%         0.000000       0.000000  \n",
      "75%         0.000000       0.000000  \n",
      "max         1.000000       1.000000  \n"
     ]
    }
   ],
   "source": [
    "import pandas as pd\n",
    "# 加载训练集\n",
    "train = pd.read_csv(\"train.csv\")\n",
    "print(train.describe())"
   ]
  },
  {
   "cell_type": "code",
   "execution_count": 6,
   "metadata": {},
   "outputs": [
    {
     "name": "stdout",
     "output_type": "stream",
     "text": [
      "toxic            15294\n",
      "severe_toxic      1595\n",
      "obscene           8449\n",
      "threat             478\n",
      "insult            7877\n",
      "identity_hate     1405\n",
      "dtype: int64\n"
     ]
    },
    {
     "data": {
      "image/png": "[encoded data removed]",
      "text/plain": [
       "<Figure size 432x288 with 1 Axes>"
      ]
     },
     "metadata": {},
     "output_type": "display_data"
    }
   ],
   "source": [
    "import matplotlib.pyplot as plt\n",
    "train_lable = train.drop([\"comment_text\",\"id\"],axis=1); # 移除comment_text和id列\n",
    "train_sum = train_lable.sum()\n",
    "print(train_sum)\n",
    "train_sum.plot(kind=\"bar\") # 计数，因为只有0、1值，所以使用列求和得到series，最后绘制直方图\n",
    "plt.show()"
   ]
  },
  {
   "cell_type": "code",
   "execution_count": 2,
   "metadata": {},
   "outputs": [],
   "source": [
    "def sta(value_sum,count):\n",
    "    print(value_sum[0]/len(count))\n",
    "    print(value_sum[1]/len(count))\n",
    "    print(value_sum[2]/len(count))\n",
    "    print(value_sum[3]/len(count))\n",
    "    print(value_sum[4]/len(count))\n",
    "    print(value_sum[5]/len(count))\n",
    "    print(value_sum[6]/len(count))"
   ]
  },
  {
   "cell_type": "code",
   "execution_count": 65,
   "metadata": {},
   "outputs": [
    {
     "name": "stdout",
     "output_type": "stream",
     "text": [
      "0.8983211235124177\n",
      "0.03985686622255924\n",
      "0.0218084739708343\n",
      "0.026376973259552173\n",
      "0.011029573042720795\n",
      "0.002412719103095174\n",
      "0.00019427088882065038\n"
     ]
    }
   ],
   "source": [
    "sta(train_value_counts,train_lable)"
   ]
  },
  {
   "cell_type": "code",
   "execution_count": 40,
   "metadata": {},
   "outputs": [
    {
     "name": "stdout",
     "output_type": "stream",
     "text": [
      "0    143346\n",
      "1      6360\n",
      "3      4209\n",
      "2      3480\n",
      "4      1760\n",
      "5       385\n",
      "6        31\n",
      "dtype: int64\n"
     ]
    },
    {
     "data": {
      "image/png": "[encoded data removed]",
      "text/plain": [
       "<Figure size 432x288 with 1 Axes>"
      ]
     },
     "metadata": {},
     "output_type": "display_data"
    }
   ],
   "source": [
    "train_value_counts = train_lable.sum(axis=1).value_counts()\n",
    "print(train_value_counts)\n",
    "train_value_counts.plot(kind=\"bar\") # 计数，行求和，然后按照值类别再计数，最后绘制直方图\n",
    "plt.show()"
   ]
  },
  {
   "cell_type": "markdown",
   "metadata": {},
   "source": [
    "### 3､LR模型"
   ]
  },
  {
   "cell_type": "code",
   "execution_count": 4,
   "metadata": {},
   "outputs": [],
   "source": [
    "class_names = ['toxic', 'severe_toxic', 'obscene', 'threat', 'insult', 'identity_hate']\n",
    "text_submission = pd.read_csv('325submission.csv')\n",
    "def ma(x):\n",
    "    if x>0.5:\n",
    "        return 1;\n",
    "    return 0;\n",
    "for columns in class_names:\n",
    "        text_submission[columns] = text_submission[columns].map(ma)"
   ]
  },
  {
   "cell_type": "code",
   "execution_count": 7,
   "metadata": {
    "scrolled": true
   },
   "outputs": [
    {
     "name": "stdout",
     "output_type": "stream",
     "text": [
      "toxic            31921\n",
      "severe_toxic      1352\n",
      "obscene          20825\n",
      "threat             332\n",
      "insult           13409\n",
      "identity_hate     1827\n",
      "dtype: int64\n"
     ]
    },
    {
     "data": {
      "image/png": "[encoded data removed]",
      "text/plain": [
       "<Figure size 432x288 with 1 Axes>"
      ]
     },
     "metadata": {},
     "output_type": "display_data"
    }
   ],
   "source": [
    "text_submission_lable = text_submission.drop([\"id\"],axis=1); # 移除comment_text和id列\n",
    "text_sum = text_submission_lable.sum()\n",
    "print(text_sum)\n",
    "text_sum.plot(kind=\"bar\") # 计数，因为只有0、1值，所以使用列求和得到series，最后绘制直方图\n",
    "plt.show()"
   ]
  },
  {
   "cell_type": "code",
   "execution_count": 8,
   "metadata": {},
   "outputs": [
    {
     "name": "stdout",
     "output_type": "stream",
     "text": [
      "               toxic   severe_toxic        obscene         threat  \\\n",
      "count  153164.000000  153164.000000  153164.000000  153164.000000   \n",
      "mean        0.208411       0.008827       0.135965       0.002168   \n",
      "std         0.406173       0.093538       0.342753       0.046507   \n",
      "min         0.000000       0.000000       0.000000       0.000000   \n",
      "25%         0.000000       0.000000       0.000000       0.000000   \n",
      "50%         0.000000       0.000000       0.000000       0.000000   \n",
      "75%         0.000000       0.000000       0.000000       0.000000   \n",
      "max         1.000000       1.000000       1.000000       1.000000   \n",
      "\n",
      "              insult  identity_hate  \n",
      "count  153164.000000  153164.000000  \n",
      "mean        0.087547       0.011928  \n",
      "std         0.282635       0.108564  \n",
      "min         0.000000       0.000000  \n",
      "25%         0.000000       0.000000  \n",
      "50%         0.000000       0.000000  \n",
      "75%         0.000000       0.000000  \n",
      "max         1.000000       1.000000  \n"
     ]
    }
   ],
   "source": [
    "print(text_submission.describe())"
   ]
  },
  {
   "cell_type": "code",
   "execution_count": 9,
   "metadata": {},
   "outputs": [
    {
     "name": "stdout",
     "output_type": "stream",
     "text": [
      "0    120718\n",
      "2     11199\n",
      "1      9641\n",
      "3      9198\n",
      "4      2033\n",
      "5       349\n",
      "6        26\n",
      "dtype: int64\n"
     ]
    },
    {
     "data": {
      "image/png": "[encoded data removed]",
      "text/plain": [
       "<Figure size 432x288 with 1 Axes>"
      ]
     },
     "metadata": {},
     "output_type": "display_data"
    }
   ],
   "source": [
    "train_submission_counts = text_submission_lable.sum(axis=1).value_counts()\n",
    "print(train_submission_counts)\n",
    "train_submission_counts.plot(kind=\"bar\") # 计数，行求和，然后按照值类别再计数，最后绘制直方图\n",
    "plt.show()"
   ]
  },
  {
   "cell_type": "code",
   "execution_count": 10,
   "metadata": {},
   "outputs": [
    {
     "name": "stdout",
     "output_type": "stream",
     "text": [
      "0.7881617090177848\n",
      "0.06294560079392024\n",
      "0.07311770389908856\n",
      "0.06005327622678958\n",
      "0.013273354051865974\n",
      "0.0022786033271525947\n",
      "0.00016975268339818755\n"
     ]
    }
   ],
   "source": [
    "sta(train_submission_counts,text_submission_lable)"
   ]
  }
 ],
 "metadata": {
  "kernelspec": {
   "display_name": "Python 3",
   "language": "python",
   "name": "python3"
  },
  "language_info": {
   "codemirror_mode": {
    "name": "ipython",
    "version": 3
   },
   "file_extension": ".py",
   "mimetype": "text/x-python",
   "name": "python",
   "nbconvert_exporter": "python",
   "pygments_lexer": "ipython3",
   "version": "3.6.5"
  }
 },
 "nbformat": 4,
 "nbformat_minor": 2
}
